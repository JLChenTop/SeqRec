{
 "cells": [
  {
   "cell_type": "code",
   "execution_count": 3,
   "metadata": {},
   "outputs": [],
   "source": [
    "\n",
    "# Load the data\n",
    "import numpy as np\n",
    "import pandas as pd\n",
    "import torch"
   ]
  },
  {
   "cell_type": "code",
   "execution_count": 4,
   "metadata": {},
   "outputs": [
    {
     "name": "stdout",
     "output_type": "stream",
     "text": [
      "(371346, 4) \n",
      "                 0              1             2                3\n",
      "0   user_id:token  item_id:token  rating:float  timestamp:float\n",
      "1  A1V6B6TNIC10QE     0143026860           1.0       1424304000\n",
      "2  A2F5GHSXFQ0W6J     0143026860           4.0       1418860800\n",
      "3  A1572GUYS7DGSR     0143026860           4.0       1407628800\n",
      "4   A1PSGLFK1NSVO     0143026860           5.0       1362960000\n"
     ]
    },
    {
     "name": "stderr",
     "output_type": "stream",
     "text": [
      "/tmp/ipykernel_3011295/408098555.py:11: DtypeWarning: Columns (2,3) have mixed types. Specify dtype option on import or set low_memory=False.\n",
      "  data = pd.read_csv(dataset, sep='\\t', header=None)\n"
     ]
    }
   ],
   "source": [
    "# read the dataset\n",
    "\n",
    "\n",
    "## dataset=\"dataset/diginetica-merged/diginetica-merged.inter\"\n",
    "## dataset=\"dataset/yoochoose-clicks-merged/yoochoose-clicks-merged.inter\"\n",
    "##  上述数据集为  session-based 数据集，每一行为一个session，每个session中的item按照时间顺序排列\n",
    "\n",
    "dataset=\"dataset/amazon-all-beauty-18/amazon-all-beauty-18.inter\"\n",
    "# dataset=\"dataset/amazon-books-18/amazon-books-18.inter\"\n",
    "# \n",
    "data = pd.read_csv(dataset, sep='\\t', header=None)\n",
    "print(data.shape,\"\\n\",data.head())"
   ]
  },
  {
   "cell_type": "code",
   "execution_count": 5,
   "metadata": {},
   "outputs": [
    {
     "name": "stdout",
     "output_type": "stream",
     "text": [
      "0\n",
      "A2GJX2KCUSR0EI    27\n",
      "A1KSC91G9AIY2Z    23\n",
      "A22CW0ZHY3NJH8    21\n",
      "A1EGCED01USBA9    21\n",
      "AENH50GW3OKDA     20\n",
      "Name: count, dtype: int64 (324039,)\n"
     ]
    }
   ],
   "source": [
    "# 统计每个userid的行为数，然后按照行为数排序\n",
    "user_count = data[0].value_counts().sort_values(ascending=False)\n",
    "print(user_count.head(), user_count.shape)"
   ]
  },
  {
   "cell_type": "code",
   "execution_count": 6,
   "metadata": {},
   "outputs": [
    {
     "name": "stdout",
     "output_type": "stream",
     "text": [
      "0\n",
      "A2GJX2KCUSR0EI    27\n",
      "A1KSC91G9AIY2Z    23\n",
      "A22CW0ZHY3NJH8    21\n",
      "A1EGCED01USBA9    21\n",
      "AENH50GW3OKDA     20\n",
      "Name: count, dtype: int64 (1398,)\n"
     ]
    }
   ],
   "source": [
    "# v>5   保留行为数大于5的用户\n",
    "user_count = user_count[user_count >= 5]\n",
    "print(user_count.head(), user_count.shape)"
   ]
  },
  {
   "cell_type": "code",
   "execution_count": 7,
   "metadata": {},
   "outputs": [
    {
     "name": "stdout",
     "output_type": "stream",
     "text": [
      "count    1398.000000\n",
      "mean        5.800429\n",
      "std         1.625961\n",
      "min         5.000000\n",
      "25%         5.000000\n",
      "50%         5.000000\n",
      "75%         6.000000\n",
      "max        27.000000\n",
      "Name: count, dtype: float64\n"
     ]
    }
   ],
   "source": [
    "print(user_count.describe())"
   ]
  },
  {
   "cell_type": "code",
   "execution_count": 8,
   "metadata": {},
   "outputs": [
    {
     "data": {
      "text/plain": [
       "True"
      ]
     },
     "execution_count": 8,
     "metadata": {},
     "output_type": "execute_result"
    }
   ],
   "source": [
    "torch.cuda.is_available()"
   ]
  }
 ],
 "metadata": {
  "kernelspec": {
   "display_name": "dl",
   "language": "python",
   "name": "python3"
  },
  "language_info": {
   "codemirror_mode": {
    "name": "ipython",
    "version": 3
   },
   "file_extension": ".py",
   "mimetype": "text/x-python",
   "name": "python",
   "nbconvert_exporter": "python",
   "pygments_lexer": "ipython3",
   "version": "3.10.13"
  }
 },
 "nbformat": 4,
 "nbformat_minor": 2
}
